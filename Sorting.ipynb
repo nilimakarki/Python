{
 "cells": [
  {
   "cell_type": "markdown",
   "metadata": {},
   "source": [
    "# Insertion Sort"
   ]
  },
  {
   "cell_type": "code",
   "execution_count": 5,
   "metadata": {},
   "outputs": [],
   "source": [
    "#insertion sort\n",
    "def insertion_sort(array):\n",
    "    for x in range(0, len(array)):\n",
    "        for y in range(x, 0, -1):\n",
    "            if array[y] < array[y-1]:\n",
    "                array[y] , array[y-1] = array[y-1] , array[y]\n",
    "    return array"
   ]
  },
  {
   "cell_type": "code",
   "execution_count": 13,
   "metadata": {},
   "outputs": [],
   "source": [
    "import random\n",
    "#random.seed(50)"
   ]
  },
  {
   "cell_type": "code",
   "execution_count": 14,
   "metadata": {},
   "outputs": [
    {
     "name": "stdout",
     "output_type": "stream",
     "text": [
      "[63, 34, 46, 81, 31, 88, 60, 98, 42, 10, 68, 40, 28, 86, 71, 10, 19, 44, 12, 44, 40, 28, 24, 8, 42, 77, 77, 54, 81, 11, 8, 88, 77, 42, 88, 82, 55, 0, 29, 43, 34, 55, 89, 13, 25, 56, 34, 88, 74, 58]\n"
     ]
    }
   ],
   "source": [
    "random.seed(50)\n",
    "data = []\n",
    "for i in range(50):\n",
    "    data.append(random.randint(0, 100))\n",
    "print(data)"
   ]
  },
  {
   "cell_type": "code",
   "execution_count": 30,
   "metadata": {},
   "outputs": [
    {
     "name": "stdout",
     "output_type": "stream",
     "text": [
      "[0, 8, 8, 10, 10, 11, 12, 13, 19, 24, 25, 28, 28, 29, 31, 34, 34, 34, 40, 40, 42, 42, 42, 43, 44, 44, 46, 54, 55, 55, 56, 58, 60, 63, 68, 71, 74, 77, 77, 77, 81, 81, 82, 86, 88, 88, 88, 88, 89, 98]\n"
     ]
    }
   ],
   "source": [
    "result = insertion_sort(data)\n",
    "print(result)"
   ]
  },
  {
   "cell_type": "code",
   "execution_count": 1,
   "metadata": {},
   "outputs": [],
   "source": [
    "def insertion_sort(array):\n",
    "    \n",
    "    for x in range(0, len(array)):\n",
    "        for i in range(x, 0, -1):\n",
    "            if array[i] < array[i - 1]:\n",
    "                array[i], array[i-1] = array[i-1], array[i]\n",
    "            else:\n",
    "                break\n",
    "        \n",
    "    return array\n",
    "      "
   ]
  },
  {
   "cell_type": "code",
   "execution_count": 2,
   "metadata": {},
   "outputs": [
    {
     "name": "stdout",
     "output_type": "stream",
     "text": [
      "Unsorted array: [15, 2, 1, 12, 100, 50]\n",
      "\n",
      "Sorted array: [1, 2, 12, 15, 50, 100]\n"
     ]
    }
   ],
   "source": [
    "array = [15, 2, 1, 12 , 100, 50]\n",
    "\n",
    "print(\"Unsorted array: {}\\n\".format(array))\n",
    "\n",
    "sorted_array = insertion_sort(array)\n",
    "\n",
    "print(\"Sorted array: {}\".format(array))"
   ]
  },
  {
   "cell_type": "markdown",
   "metadata": {},
   "source": [
    "# Merger Sort"
   ]
  },
  {
   "cell_type": "code",
   "execution_count": 19,
   "metadata": {},
   "outputs": [],
   "source": [
    "#merge sort\n",
    "def merge(a, b):\n",
    "    \n",
    "    c = []\n",
    "    \n",
    "    a_idx = 0;\n",
    "    b_idx = 0;\n",
    "    \n",
    "    while a_idx < len(a) and b_idx < len(b):\n",
    "        \n",
    "        if a[a_idx] < b[b_idx]:\n",
    "            c.append(a[a_idx])\n",
    "            a_idx += 1\n",
    "        elif a[a_idx] > b[b_idx]:\n",
    "            c.append(b[b_idx])\n",
    "            b_idx += 1\n",
    "        else:\n",
    "            c.append(a[a_idx])\n",
    "            c.append(b[b_idx])\n",
    "            a_idx += 1\n",
    "            b_idx += 1\n",
    "        \n",
    "    if a_idx < len(a):\n",
    "        c.extend(a[a_idx:])\n",
    "            \n",
    "    if b_idx < len(b):\n",
    "        c.extend(b[b_idx:])\n",
    "                  \n",
    "    return c\n",
    "                "
   ]
  },
  {
   "cell_type": "code",
   "execution_count": 20,
   "metadata": {},
   "outputs": [
    {
     "name": "stdout",
     "output_type": "stream",
     "text": [
      "[1, 7, 3, 8, 5, 15, 17]\n"
     ]
    }
   ],
   "source": [
    "print(merge([1,8,5], [7,3,15,17]))"
   ]
  },
  {
   "cell_type": "code",
   "execution_count": 17,
   "metadata": {},
   "outputs": [],
   "source": [
    "#merge sort\n",
    "def merge_sort(data):\n",
    "    if len(data) <= 1:\n",
    "        return data\n",
    "    \n",
    "    middle = len(data) // 2\n",
    "    left = merge_sort(data[:middle])\n",
    "    right = merge_sort(data[middle:])\n",
    "    \n",
    "    result = merge(left, right)\n",
    "    \n",
    "    return result"
   ]
  },
  {
   "cell_type": "code",
   "execution_count": 18,
   "metadata": {},
   "outputs": [
    {
     "name": "stdout",
     "output_type": "stream",
     "text": [
      "[1, 3, 5, 7, 8, 15, 17]\n"
     ]
    }
   ],
   "source": [
    "data= [1,8,5,7,3,15,17]\n",
    "print(merge_sort(data))"
   ]
  },
  {
   "cell_type": "code",
   "execution_count": 3,
   "metadata": {},
   "outputs": [],
   "source": [
    "def merge_sort(array):\n",
    "    # a list of zero or one elements is sorted.\n",
    "    if len(array) <=1: \n",
    "        return array\n",
    "    \n",
    "    middle = len(array) // 2\n",
    "    left = merge_sort(array[:middle])\n",
    "    right = merge_sort(array[middle:])\n",
    "    \n",
    "    result = merge(left, right)\n",
    "    \n",
    "    return result\n",
    "\n",
    "def merge(a, b):\n",
    "    c = []\n",
    "    a_idx = 0\n",
    "    b_idx = 0\n",
    "    \n",
    "    while a_idx < len(a) and b_idx < len(b):\n",
    "        if a[a_idx] < b[b_idx]:\n",
    "            c.append(a[a_idx])\n",
    "            a_idx += 1\n",
    "        elif a[a_idx] > b[b_idx]:\n",
    "            c.append(b[b_idx])\n",
    "            b_idx += 1\n",
    "        else:\n",
    "            c.append(a[a_idx])\n",
    "            c.append(b[b_idx])\n",
    "            a_idx += 1\n",
    "            b_idx += 1\n",
    "    \n",
    "    if a_idx < len(a):\n",
    "        c.extend(a[a_idx:]) \n",
    "        \n",
    "    if b_idx < len(b):\n",
    "        c.extend(b[b_idx:]) \n",
    "        \n",
    "    return c"
   ]
  },
  {
   "cell_type": "code",
   "execution_count": 32,
   "metadata": {},
   "outputs": [
    {
     "name": "stdout",
     "output_type": "stream",
     "text": [
      "Unsorted array: [15, 2, 1, 12, 100, 50]\n",
      "\n",
      "Sorted array: [1, 2, 12, 15, 50, 100]\n"
     ]
    }
   ],
   "source": [
    "array = [15, 2, 1, 12 , 100, 50]\n",
    "\n",
    "print(\"Unsorted array: {}\\n\".format(array))\n",
    "\n",
    "sorted_array = merge_sort(array)\n",
    "\n",
    "print(\"Sorted array: {}\".format(sorted_array))"
   ]
  },
  {
   "cell_type": "markdown",
   "metadata": {},
   "source": [
    "# Tim Sort"
   ]
  },
  {
   "cell_type": "code",
   "execution_count": 8,
   "metadata": {},
   "outputs": [
    {
     "name": "stdout",
     "output_type": "stream",
     "text": [
      "Unsorted array: [16, 34, 79, 26, 68, 74, 15, 52, 87, 79, 89, 15, 80, 69, 63, 54, 66, 68, 86, 16, 63, 73, 66, 38, 11, 47, 97, 66, 19, 0, 45, 1, 75, 87, 52, 60, 83, 68, 28, 20, 92, 73, 12, 17, 32, 48, 31, 43, 4, 80]\n",
      "\n",
      "[16, 26, 34, 68, 79, 15, 52, 74, 79, 87, 15, 63, 69, 80, 89, 16, 54, 66, 68, 86, 11, 38, 63, 66, 73, 0, 19, 47, 66, 97, 1, 45, 52, 75, 87, 20, 28, 60, 68, 83, 12, 17, 32, 73, 92, 4, 31, 43, 48, 80]\n",
      "Sorted array: [0, 1, 4, 11, 12, 15, 15, 16, 16, 17, 19, 20, 26, 28, 31, 32, 34, 38, 43, 45, 47, 48, 52, 52, 54, 60, 63, 63, 66, 66, 66, 68, 68, 68, 69, 73, 73, 74, 75, 79, 79, 80, 80, 83, 86, 87, 87, 89, 92, 97]\n"
     ]
    }
   ],
   "source": [
    "import random\n",
    "\n",
    "def tim_sort(array, run=2):\n",
    "    for x in range(0, len(array), run):\n",
    "        array[x:x+run] = insertion_sort(array[x:x+run])\n",
    "    \n",
    "    print(array)\n",
    "    run_idx = run\n",
    "    \n",
    "    \n",
    "    while run_idx < len(array):\n",
    "        \n",
    "        for x in range(0, len(array), 2*run_idx):\n",
    "            array[x:x+2*run_idx] = merge(array[x:x+run_idx], array[x+run_idx:x+2*run_idx])\n",
    "        \n",
    "        run_idx = run_idx * 2\n",
    "        \n",
    "    return array\n",
    "    \n",
    "\n",
    "array = []\n",
    "run = 5\n",
    "for x in range(0, 50):\n",
    "    array.append(random.randint(0,97))\n",
    "\n",
    "print(\"Unsorted array: {}\\n\".format(array))\n",
    "\n",
    "result = tim_sort(array, run)\n",
    "    \n",
    "print(\"Sorted array: {}\".format(result))"
   ]
  },
  {
   "cell_type": "code",
   "execution_count": 3,
   "metadata": {},
   "outputs": [
    {
     "name": "stdout",
     "output_type": "stream",
     "text": [
      "2\n"
     ]
    }
   ],
   "source": [
    "a = [1,2,3]\n",
    "print(a[1])"
   ]
  },
  {
   "cell_type": "code",
   "execution_count": null,
   "metadata": {},
   "outputs": [],
   "source": []
  }
 ],
 "metadata": {
  "kernelspec": {
   "display_name": "Python 3",
   "language": "python",
   "name": "python3"
  },
  "language_info": {
   "codemirror_mode": {
    "name": "ipython",
    "version": 3
   },
   "file_extension": ".py",
   "mimetype": "text/x-python",
   "name": "python",
   "nbconvert_exporter": "python",
   "pygments_lexer": "ipython3",
   "version": "3.6.3"
  }
 },
 "nbformat": 4,
 "nbformat_minor": 2
}
