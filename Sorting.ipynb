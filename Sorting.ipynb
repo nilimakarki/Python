{
 "cells": [
  {
   "cell_type": "code",
   "execution_count": 27,
   "metadata": {},
   "outputs": [],
   "source": [
    "#insertion sort\n",
    "def insertion_sort(array):\n",
    "    for x in range(0, len(array)):\n",
    "        for y in range(x, 0, -1):\n",
    "            if array[y] < array[y-1]:\n",
    "                array[y] , array[y-1] = array[y-1] , array[y]\n",
    "    return array"
   ]
  },
  {
   "cell_type": "code",
   "execution_count": 28,
   "metadata": {},
   "outputs": [],
   "source": [
    "import random\n",
    "#random.seed(50)"
   ]
  },
  {
   "cell_type": "code",
   "execution_count": 44,
   "metadata": {},
   "outputs": [
    {
     "name": "stdout",
     "output_type": "stream",
     "text": [
      "[63, 34, 46, 81, 31, 88, 60, 98, 42, 10, 68, 40, 28, 86, 71, 10, 19, 44, 12, 44, 40, 28, 24, 8, 42, 77, 77, 54, 81, 11, 8, 88, 77, 42, 88, 82, 55, 0, 29, 43, 34, 55, 89, 13, 25, 56, 34, 88, 74, 58]\n"
     ]
    }
   ],
   "source": [
    "random.seed(50)\n",
    "data = []\n",
    "for i in range(50):\n",
    "    data.append(random.randint(0, 100))\n",
    "print(data)"
   ]
  },
  {
   "cell_type": "code",
   "execution_count": 30,
   "metadata": {},
   "outputs": [
    {
     "name": "stdout",
     "output_type": "stream",
     "text": [
      "[0, 8, 8, 10, 10, 11, 12, 13, 19, 24, 25, 28, 28, 29, 31, 34, 34, 34, 40, 40, 42, 42, 42, 43, 44, 44, 46, 54, 55, 55, 56, 58, 60, 63, 68, 71, 74, 77, 77, 77, 81, 81, 82, 86, 88, 88, 88, 88, 89, 98]\n"
     ]
    }
   ],
   "source": [
    "result = insertion_sort(data)\n",
    "print(result)"
   ]
  },
  {
   "cell_type": "code",
   "execution_count": 38,
   "metadata": {},
   "outputs": [],
   "source": [
    "#merge sort\n",
    "def merge(a, b):\n",
    "    \n",
    "    c = []\n",
    "    \n",
    "    a_idx = 0;\n",
    "    b_idx = 0;\n",
    "    \n",
    "    while a_idx < len(a) and b_idx < len(b):\n",
    "        \n",
    "        if a[a_idx] < b[b_idx]:\n",
    "            c.append(a[a_idx])\n",
    "            a_idx += 1\n",
    "        elif a[a_idx] > b[b_idx]:\n",
    "            c.append(b[b_idx])\n",
    "            b_idx += 1\n",
    "        else:\n",
    "            c.append(a[a_idx])\n",
    "            c.append(b[b_idx])\n",
    "            a_idx += 1\n",
    "            b_idx += 1\n",
    "        \n",
    "    if a_idx < len(a):\n",
    "        c.extend(a[a_idx:])\n",
    "            \n",
    "    if b_idx < len(b):\n",
    "        c.extend(b[b_idx:])\n",
    "                  \n",
    "    return c\n",
    "                "
   ]
  },
  {
   "cell_type": "code",
   "execution_count": 41,
   "metadata": {},
   "outputs": [
    {
     "name": "stdout",
     "output_type": "stream",
     "text": [
      "[1, 2, 3, 5, 7, 8, 15]\n"
     ]
    }
   ],
   "source": [
    "print(merge([1,5,15], [2,3,7,8]))"
   ]
  },
  {
   "cell_type": "code",
   "execution_count": 42,
   "metadata": {},
   "outputs": [],
   "source": [
    "#merge sort\n",
    "def merge_sort(data):\n",
    "    if len(data) <= 1:\n",
    "        return data\n",
    "    \n",
    "    middle = len(data) // 2\n",
    "    left = merge_sort(data[:middle])\n",
    "    right = merge_sort(data[middle:])\n",
    "    \n",
    "    result = merge(left, right)\n",
    "    \n",
    "    return result"
   ]
  },
  {
   "cell_type": "code",
   "execution_count": 45,
   "metadata": {},
   "outputs": [
    {
     "name": "stdout",
     "output_type": "stream",
     "text": [
      "[0, 8, 8, 10, 10, 11, 12, 13, 19, 24, 25, 28, 28, 29, 31, 34, 34, 34, 40, 40, 42, 42, 42, 43, 44, 44, 46, 54, 55, 55, 56, 58, 60, 63, 68, 71, 74, 77, 77, 77, 81, 81, 82, 86, 88, 88, 88, 88, 89, 98]\n"
     ]
    }
   ],
   "source": [
    "print(merge_sort(data))"
   ]
  },
  {
   "cell_type": "code",
   "execution_count": null,
   "metadata": {},
   "outputs": [],
   "source": []
  }
 ],
 "metadata": {
  "kernelspec": {
   "display_name": "Python 3",
   "language": "python",
   "name": "python3"
  },
  "language_info": {
   "codemirror_mode": {
    "name": "ipython",
    "version": 3
   },
   "file_extension": ".py",
   "mimetype": "text/x-python",
   "name": "python",
   "nbconvert_exporter": "python",
   "pygments_lexer": "ipython3",
   "version": "3.6.3"
  }
 },
 "nbformat": 4,
 "nbformat_minor": 2
}
