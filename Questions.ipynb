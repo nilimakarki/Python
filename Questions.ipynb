{
 "cells": [
  {
   "cell_type": "markdown",
   "metadata": {},
   "source": [
    "# Q. You are given a string and your task is to swap cases. In other words, convert all lowercase letters to uppercase letters and vice versa.\n",
    "\n",
    "input: 'This is mE 123'\n",
    "\n",
    "output: 'tHIS IS Me 123'"
   ]
  },
  {
   "cell_type": "markdown",
   "metadata": {},
   "source": [
    "# Q. The user enters a string and a substring. You have to print the number of times that the substring occurs in the given string. String traversal will take place from left to right, not from right to left.\n",
    "\n",
    "Input: \n",
    "\n",
    "ABCDCDC\n",
    "\n",
    "CDC\n",
    "\n",
    "Output:\n",
    "\n",
    "2"
   ]
  },
  {
   "cell_type": "markdown",
   "metadata": {},
   "source": [
    "# Q. You are given a string and your task is remove all Upper case letters. \n",
    "\n",
    "input: 'This is mE 123'\n",
    "\n",
    "output: 'his is m 123'"
   ]
  },
  {
   "cell_type": "code",
   "execution_count": null,
   "metadata": {},
   "outputs": [],
   "source": []
  },
  {
   "cell_type": "markdown",
   "metadata": {},
   "source": [
    "## Q. Remove the items from the given dictionary having the highest value.\n",
    "input:{'A':10, 'B':3, 'C':12, 'D':2}\n",
    "\n",
    "output:{'A':10, 'B':3, 'D':2}"
   ]
  },
  {
   "cell_type": "code",
   "execution_count": 1,
   "metadata": {},
   "outputs": [
    {
     "name": "stdout",
     "output_type": "stream",
     "text": [
      "{'A': 10, 'B': 3, 'D': 2}\n"
     ]
    }
   ],
   "source": [
    "input = {'A':10, 'B':3, 'C':12, 'D':2}\n",
    "result = {}\n",
    "a = max(input.values())\n",
    "for i in input:\n",
    "    if a != input[i]:\n",
    "        result[i] = input[i]\n",
    "print(result)\n"
   ]
  },
  {
   "cell_type": "markdown",
   "metadata": {},
   "source": [
    "# Q. Sort the list of tuple based on seccong item\n",
    "input: [('A',10), ('B',2), ('C',7)]\n",
    "\n",
    "output: [('B',2), ('C',7), ('A',10)]"
   ]
  },
  {
   "cell_type": "code",
   "execution_count": 31,
   "metadata": {},
   "outputs": [
    {
     "name": "stdout",
     "output_type": "stream",
     "text": [
      "[('B', 2), ('C', 7), ('A', 10)]\n"
     ]
    }
   ],
   "source": [
    "input = [('A',10), ('B',2), ('C',7)]\n",
    "x = []\n",
    "y = []\n",
    "for i in input:\n",
    "    x.append((i[1],i[0]))\n",
    "z = sorted(x)\n",
    "for j in z:\n",
    "    y.append((j[1],j[0]))\n",
    "print(y)"
   ]
  },
  {
   "cell_type": "code",
   "execution_count": 49,
   "metadata": {},
   "outputs": [
    {
     "name": "stdout",
     "output_type": "stream",
     "text": [
      "['emp1', 'emp2', 'emp3', 'emp4']\n"
     ]
    }
   ],
   "source": [
    "l = [1,2,3,4]\n",
    "result = []\n",
    "for i in l:\n",
    "    string = 'emp' + str(i)\n",
    "    result.append(string)\n",
    "print(result)\n"
   ]
  },
  {
   "cell_type": "code",
   "execution_count": 55,
   "metadata": {},
   "outputs": [
    {
     "name": "stdout",
     "output_type": "stream",
     "text": [
      "[[2, 3], [4, 5]]\n"
     ]
    }
   ],
   "source": [
    "l = [[1,2],[3,4]], [[1,1],[1,1]]\n",
    "list1 = [[1,2],[3,4]]\n",
    "list2 = [[1,1],[1,1]]\n",
    "result = []\n",
    "for a,b in list1:\n",
    "    for c,d in list2:\n",
    "        x = a+c\n",
    "        y = b+d\n",
    "        z = [x,y]\n",
    "    result.append(z)\n",
    "print(result)\n",
    "        "
   ]
  },
  {
   "cell_type": "code",
   "execution_count": null,
   "metadata": {},
   "outputs": [],
   "source": []
  }
 ],
 "metadata": {
  "kernelspec": {
   "display_name": "Python 3",
   "language": "python",
   "name": "python3"
  },
  "language_info": {
   "codemirror_mode": {
    "name": "ipython",
    "version": 3
   },
   "file_extension": ".py",
   "mimetype": "text/x-python",
   "name": "python",
   "nbconvert_exporter": "python",
   "pygments_lexer": "ipython3",
   "version": "3.6.3"
  }
 },
 "nbformat": 4,
 "nbformat_minor": 2
}
