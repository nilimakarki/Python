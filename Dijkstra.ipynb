{
 "cells": [
  {
   "cell_type": "code",
   "execution_count": 48,
   "metadata": {},
   "outputs": [],
   "source": [
    "import sys"
   ]
  },
  {
   "cell_type": "code",
   "execution_count": 49,
   "metadata": {},
   "outputs": [],
   "source": [
    "class Edge():\n",
    "    def __init__(self, weight, start_vertex, target_vertex):\n",
    "        self.weight = weight\n",
    "        self.start_vertex = start_vertex\n",
    "        self.target_vertex = target_vertex"
   ]
  },
  {
   "cell_type": "code",
   "execution_count": 50,
   "metadata": {},
   "outputs": [],
   "source": [
    "class Vertex():\n",
    "    def __init__(self, name):\n",
    "        self.name = name\n",
    "        self.predecessor = None #parent node\n",
    "        self.adjacencies = [] #edge\n",
    "        self.min_distance = sys.maxsize #infinity\n",
    "        \n",
    "    def __lt__(self, other):\n",
    "        self_priority = self.min_distance\n",
    "        other_priority = other.min_distance\n",
    "        return self_priority < other_priority\n",
    "        "
   ]
  },
  {
   "cell_type": "code",
   "execution_count": 51,
   "metadata": {},
   "outputs": [],
   "source": [
    "import heapq\n",
    "\n",
    "def calculate_shortest_path(vertex_list, start_vertex):\n",
    "    \n",
    "    start_vertex.min_distance = 0\n",
    "    queue = []\n",
    "    heapq.heappush(queue, start_vertex)\n",
    "    \n",
    "    while queue:\n",
    "        actual_vertex = heapq.heappop(queue)\n",
    "        \n",
    "        for edge in actual_vertex.adjacencies:\n",
    "            s = edge.start_vertex\n",
    "            t = edge.target_vertex\n",
    "            \n",
    "            new_distance = s.min_distance + edge.weight\n",
    "            \n",
    "            if new_distance < t.min_distance:\n",
    "                t.predecessor = s\n",
    "                t.min_distance = new_distance\n",
    "                heapq.heappush(queue, t)\n",
    "\n",
    "def get_shortest_path(target_vertex):\n",
    "    \n",
    "    print(\"Shortest path: \", target_vertex.min_distance)\n",
    "    \n",
    "    node = target_vertex\n",
    "    \n",
    "    while node is not None:\n",
    "        print(node.name)\n",
    "        node = node.predecessor"
   ]
  },
  {
   "cell_type": "code",
   "execution_count": 56,
   "metadata": {},
   "outputs": [
    {
     "name": "stdout",
     "output_type": "stream",
     "text": [
      "Shortest path:  22\n",
      "G\n",
      "F\n",
      "D\n",
      "A\n"
     ]
    }
   ],
   "source": [
    "node_A = Vertex(\"A\")\n",
    "node_B = Vertex(\"B\")\n",
    "node_C = Vertex(\"C\")\n",
    "node_D = Vertex(\"D\")\n",
    "node_E = Vertex(\"E\")\n",
    "node_F = Vertex(\"F\")\n",
    "node_G = Vertex(\"G\")\n",
    "\n",
    "edge_1 = Edge(7, node_A, node_B)\n",
    "edge_2 = Edge(5, node_A, node_D)\n",
    "edge_3 = Edge(8, node_B, node_C)\n",
    "edge_4 = Edge(9, node_B, node_D)\n",
    "edge_5 = Edge(7, node_B, node_E)\n",
    "edge_6 = Edge(5, node_C, node_E)\n",
    "edge_7 = Edge(15, node_D, node_E)\n",
    "edge_8 = Edge(6, node_D, node_F)\n",
    "edge_9 = Edge(8, node_E, node_F)\n",
    "edge_10 = Edge(9, node_E, node_G)\n",
    "edge_11 = Edge(11, node_F, node_G)\n",
    "\n",
    "node_A.adjacencies.extend([edge_1, edge_2])\n",
    "node_B.adjacencies.extend([edge_3, edge_4, edge_5])\n",
    "node_C.adjacencies.extend([edge_6])\n",
    "node_D.adjacencies.extend([edge_7, edge_8])\n",
    "node_E.adjacencies.extend([edge_9, edge_10])\n",
    "node_F.adjacencies.extend([edge_11])\n",
    "\n",
    "vertex_list = {node_A, node_B, node_C, node_D, node_E, node_F, node_G}\n",
    "\n",
    "calculate_shortest_path(vertex_list, node_A)\n",
    "\n",
    "get_shortest_path(node_G)"
   ]
  },
  {
   "cell_type": "code",
   "execution_count": null,
   "metadata": {},
   "outputs": [],
   "source": []
  }
 ],
 "metadata": {
  "kernelspec": {
   "display_name": "Python 3",
   "language": "python",
   "name": "python3"
  },
  "language_info": {
   "codemirror_mode": {
    "name": "ipython",
    "version": 3
   },
   "file_extension": ".py",
   "mimetype": "text/x-python",
   "name": "python",
   "nbconvert_exporter": "python",
   "pygments_lexer": "ipython3",
   "version": "3.6.3"
  }
 },
 "nbformat": 4,
 "nbformat_minor": 2
}
